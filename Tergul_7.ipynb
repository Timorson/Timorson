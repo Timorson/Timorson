{
  "nbformat": 4,
  "nbformat_minor": 0,
  "metadata": {
    "colab": {
      "name": "Tergul 7",
      "provenance": [],
      "authorship_tag": "ABX9TyPKztAYrSBg43NSE8uSlpja",
      "include_colab_link": true
    },
    "kernelspec": {
      "name": "python3",
      "display_name": "Python 3"
    },
    "language_info": {
      "name": "python"
    }
  },
  "cells": [
    {
      "cell_type": "markdown",
      "metadata": {
        "id": "view-in-github",
        "colab_type": "text"
      },
      "source": [
        "<a href=\"https://colab.research.google.com/github/Timorson/Timorson/blob/main/Tergul_7.ipynb\" target=\"_parent\"><img src=\"https://colab.research.google.com/assets/colab-badge.svg\" alt=\"Open In Colab\"/></a>"
      ]
    },
    {
      "cell_type": "code",
      "execution_count": 14,
      "metadata": {
        "colab": {
          "base_uri": "https://localhost:8080/"
        },
        "id": "7BZdiKJHNFXq",
        "outputId": "aee7073d-dd81-44ef-db78-591acefcba1d"
      },
      "outputs": [
        {
          "output_type": "stream",
          "name": "stdout",
          "text": [
            "95\n",
            "Help on function max_value in module __main__:\n",
            "\n",
            "max_value(grades)\n",
            "    \"given a list of grades between 0 and 100\"\n",
            "\n",
            "None\n"
          ]
        }
      ],
      "source": [
        "#targil 1 \n",
        "def max_value(grades):\n",
        "  '\"given a list of grades between 0 and 100\"'\n",
        "  max_grade = -1\n",
        "\n",
        "  for grade in grades:\n",
        "    if grade > max_grade:\n",
        "      max_grade=grade\n",
        "  return max_grade\n",
        "\n",
        "x= [78, 88,95,92]\n",
        "print(max_value(x))\n",
        "print(help(max_value))"
      ]
    },
    {
      "cell_type": "code",
      "source": [
        "#targil 2\n",
        "def students_with_max_grade(grades,names):\n",
        "  '''return a list of the students with the maimal grade and the grade'''\n",
        "  max_grade=max_value(grades)\n",
        "  max_grade_student=[]\n",
        "  for ind, grd in enumerate(grades):\n",
        "   if grd==max_grade:\n",
        "    max_grade_student.append(names[ind])\n",
        "  return max_grade_student,max_grade\n",
        "  \n",
        "grades= [99,80,92,99,97]\n",
        "names= ['Tom','Ron','Benny','Adi','Livnat']\n",
        "print(students_with_max_grade(grades,names))"
      ],
      "metadata": {
        "colab": {
          "base_uri": "https://localhost:8080/"
        },
        "id": "ZOYxqR25Qmek",
        "outputId": "fb8c6e15-a620-429e-ea8a-7cd2e95f2fcd"
      },
      "execution_count": 21,
      "outputs": [
        {
          "output_type": "stream",
          "name": "stdout",
          "text": [
            "(['Tom', 'Adi'], 99)\n"
          ]
        }
      ]
    },
    {
      "cell_type": "code",
      "source": [
        "#targil 3 \n",
        "def give_factor(grades,x=5):\n",
        "  for i in range(len(grades)):\n",
        "    if grades[i] > 60:\n",
        "      grades[i] += x\n",
        "      if grades[i] > 100:\n",
        "        grades[i] = 100\n",
        "  return grades,x\n",
        "  grades = [99, 80, 92, 99, 50]\n",
        "  give_factor(grades,6)\n",
        "  print(grades)\n",
        "  [100, 85, 97, 100, 100]\n",
        "grades = [99, 80, 92, 99, 50]\n",
        "give_factor(grades, 6)\n",
        "print(grades)\n"
      ],
      "metadata": {
        "colab": {
          "base_uri": "https://localhost:8080/"
        },
        "id": "9ZA7ukMfbBX3",
        "outputId": "2a2966ec-ba20-4469-8ddc-416c40afc522"
      },
      "execution_count": 38,
      "outputs": [
        {
          "output_type": "stream",
          "name": "stdout",
          "text": [
            "[100, 86, 98, 100, 50]\n"
          ]
        }
      ]
    }
  ]
}