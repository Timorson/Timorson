{
  "nbformat": 4,
  "nbformat_minor": 0,
  "metadata": {
    "colab": {
      "name": "Targil_bit1_Timor_315009761+Ran_316551274",
      "provenance": [],
      "collapsed_sections": [],
      "include_colab_link": true
    },
    "kernelspec": {
      "name": "python3",
      "display_name": "Python 3"
    },
    "language_info": {
      "name": "python"
    }
  },
  "cells": [
    {
      "cell_type": "markdown",
      "metadata": {
        "id": "view-in-github",
        "colab_type": "text"
      },
      "source": [
        "<a href=\"https://colab.research.google.com/github/Timorson/Timorson/blob/main/Targil_bit1_Timor_315009761%2BRan_316551274.ipynb\" target=\"_parent\"><img src=\"https://colab.research.google.com/assets/colab-badge.svg\" alt=\"Open In Colab\"/></a>"
      ]
    },
    {
      "cell_type": "code",
      "source": [
        "Student1 = \"Timor Landau\"    # Timor Landau  \n",
        "Student2 = \"Ran Meyroz\"    # Ran Meyroz\n",
        "ID1 = \"315009761\"         # ID\n",
        "ID2 = \"316551274\"         # ID\n",
        "print(Student1, ID1)\n",
        "print(Student2, ID2)"
      ],
      "metadata": {
        "id": "6iqku9JgYBri",
        "colab": {
          "base_uri": "https://localhost:8080/"
        },
        "outputId": "5aefb3bc-cb02-406e-dd85-b07fd8a9c05a"
      },
      "execution_count": 14,
      "outputs": [
        {
          "output_type": "stream",
          "name": "stdout",
          "text": [
            "Timor Landau 315009761\n",
            "Ran Meyroz 316551274\n"
          ]
        }
      ]
    },
    {
      "cell_type": "markdown",
      "source": [
        "# question 1\n",
        "\n",
        "Write a program that calculates solutions of a quadratic equation of the form:\n",
        "\\begin{align}ax^2+bx+c=0\\end{align}\n",
        "\n",
        "\n",
        "The program input is the three coefficients $a$, $b$ and $c$.\n",
        "\n",
        "The formula for finding the roots:\n",
        "\n",
        "\\begin{align}\n",
        "          x_{1,2} =\\frac{-b\\pm\\sqrt{b^2-4ac} }{2a} \n",
        "    \\end{align}\n",
        "\n",
        "\n",
        "\n",
        "There are special cases where there is one solution to the equation or there are no solutions at all:\n",
        "*   $b^2-4ac<0$ : No solutions.\n",
        "*   $b^2-4ac=0$ : One solution - $x=\\frac{-b}{2a}$.\n",
        "*   $b^2-4ac>0$ : Two solutions - the complete solution.\n",
        "\n",
        "Depending on the input, the program output is one of the following options:\n",
        "*   `There is no solution to the equation`\n",
        "*   `There is one solution to the equation, and it is …`\n",
        "*   `There are two solutions to the equation, and they are … and …`\n",
        "\n",
        "> **Examples**:\n",
        "1.   For input $a=1, b=-6, c=1$ the output is: `There are two solutions to the equation, and they are 5.82 and 0.17`.\n",
        "2.   For input $a=1, b=0, c=2$ the output is: `There is no solution to the equation`.\n",
        "\n",
        "**Note:**\n",
        "\n",
        "*   $det = b^2-4ac$\n",
        "\n",
        "\n",
        "\n",
        "\n",
        "\n",
        "\n",
        "\n",
        "\n",
        "\n"
      ],
      "metadata": {
        "id": "4uSuDxxhN5FO"
      }
    },
    {
      "cell_type": "code",
      "execution_count": 13,
      "metadata": {
        "id": "KAu8RJMPNWzh",
        "colab": {
          "base_uri": "https://localhost:8080/"
        },
        "outputId": "7bad651a-1d3b-4983-813d-68bdf5c2e523"
      },
      "outputs": [
        {
          "output_type": "stream",
          "name": "stdout",
          "text": [
            "please insert the coefficient of possession: 1\n",
            "please insert the coefficient of invisible : 2\n",
            "please insert the coefficient of free coefficient : 1\n",
            "There is one solution to the equation, and it is:  -1.0\n"
          ]
        }
      ],
      "source": [
        "a = float(input('please insert the coefficient of possession: ')) # Replace ??? with a  number (int/float) of your choice.\n",
        "b = float(input('please insert the coefficient of invisible : ')) # Replace ??? with a  number (int/float) of your choice.\n",
        "c = float(input('please insert the coefficient of free coefficient : ')) # Replace ??? with a  number (int/float) of your choice.\n",
        "\n",
        "det = (b**2)-(4*a*c)\n",
        "if det<0:\n",
        "  print(\"There is no solution to the equation\")\n",
        "elif det==0:\n",
        "  sol = (-b/(2*a))\n",
        "  print(\"There is one solution to the equation, and it is: \", sol)\n",
        "else:\n",
        "  sol1 = (-b+(b**2-4*a*c)**(0.5))/(2*a)\n",
        "  sol2 = (-b-(b**2-4*a*c)**(0.5))/(2*a)\n",
        "  print(\"There are two solutions to the equation, and they are:  \",sol1,\"and\", sol2)"
      ]
    },
    {
      "cell_type": "markdown",
      "source": [
        "# question 2\n",
        "For any string, given in the variable `some_str` you should check if:\n",
        "\n",
        "\n",
        "*   Is the first character is 'b';\n",
        "*   Is the last character is a number (digit);\n",
        "*   Is the penultimate character is a 'c';\n",
        "\n",
        "If the three conditions are met, print `Yes`, otherwise print `No`.\n",
        "\n",
        "It can be assumed that the input in the variable `some_str` is a string, but you must check its length.\n",
        "\n",
        "To check if a character in a string is a number, use the str.isdigit() method.\n",
        "\n",
        "\n",
        "> **Examples**:\n",
        "1.   For the string `some_str='bZ% xxabyc3'` The program will print: `Yes`.\n",
        "2.   For the string `some_str='xZ%'` The program will print: `No`.\n",
        "\n",
        "\n",
        "**Note:**\n",
        "\n",
        "*   You need to test the program on different strings and make sure the program does not crash.\n",
        "\n"
      ],
      "metadata": {
        "id": "gdv4w_roXInx"
      }
    },
    {
      "cell_type": "code",
      "source": [
        "some_str = input('please enter your string: ') # Replace ??? with string of your choice.\n",
        "\n",
        "if len(some_str) >= 3:\n",
        "    if some_str[0] == 'b' and (some_str[len(some_str)-2]) == 'c' and str.isdigit(some_str[len(some_str)-1]):\n",
        "        print('Yes')\n",
        "    else:\n",
        "        print('No')\n",
        "else:\n",
        "    print('Try again, string should be above three')"
      ],
      "metadata": {
        "id": "9Gw2F6xHXKYX",
        "colab": {
          "base_uri": "https://localhost:8080/"
        },
        "outputId": "e133c66e-5b2e-4e09-a067-72f8e59e7f43"
      },
      "execution_count": 25,
      "outputs": [
        {
          "output_type": "stream",
          "name": "stdout",
          "text": [
            "please enter your string: b5\n",
            "Try again, string should be above three\n"
          ]
        }
      ]
    },
    {
      "cell_type": "markdown",
      "source": [
        "# question 3\n",
        "\n",
        "Given a list of positive numbers (int or float) given in the variable `numbers`, write a code that finds and prints the maximum number that appears in the list.\n",
        "\n",
        "\n",
        "1.   Write the code using a `for` loop.\n",
        "\n",
        "2.   Write the code using a `while` loop. (To write the code using a while loop remember how to go through a list, using correct indexes)\n",
        "\n",
        "**algorithm**\n",
        "\n",
        "1.   Define a variable `max_num` that will keep within it the maximum number found so far. set to `max_num` a negative value as initial value.\n",
        "\n",
        "2.   Go through the list using a loop, and in each iteration check whether the current member of the list is higher than the number stored in the `max_num`\n",
        "\n",
        "\n",
        "\n",
        "> **Examples**:\n",
        "1.   For `numbers=[1, 6, 5, 4, 3, 7, 2]` , the printed output will be: `7`\n",
        "2.   For `numbers=[1, 5.5, 3, 4]`, the printed output will be: `5.5`\n",
        "*   The examples are relevant both to the code to be written using the for loop and to the code to be written using the while loop\n",
        "*   Both code cells are supposed to perform the exact same task.\n",
        "\n",
        "**Note:**\n",
        "\n",
        "*   The program **must not change** the original list `numbers` while running. meaning, `numbers` should remain unchanged.\n",
        "*   **Do not use** existing methods or functions at all and in particular `max`, `min`, `sort`, `sorted` function.\n",
        "*   The list can be assumed to be a list of positive numbers that contains at least one number.\n"
      ],
      "metadata": {
        "id": "retw3pJQXZxn"
      }
    },
    {
      "cell_type": "code",
      "source": [
        "numbers = ??? # Replace ??? with a list of positive numbers (int/float)."
      ],
      "metadata": {
        "id": "QoN8Xv_LbwYY"
      },
      "execution_count": null,
      "outputs": []
    },
    {
      "cell_type": "code",
      "source": [
        "# Write a code with for loop below here.\n",
        "max_num = ???\n",
        "for num in ???:\n",
        "    if ??? > ???:\n",
        "        ??? = ???\n",
        "print(max_num)"
      ],
      "metadata": {
        "id": "14VlMZngXeF6"
      },
      "execution_count": null,
      "outputs": []
    },
    {
      "cell_type": "code",
      "source": [
        "# Write a code with while loop below here.\n",
        "max_num = ???\n",
        "i = ???\n",
        "while i < ???:\n",
        "    if ??? > ???:\n",
        "        ??? = ???\n",
        "    i += ???\n",
        "print(max_num)"
      ],
      "metadata": {
        "id": "WNeK4fCMbij7"
      },
      "execution_count": null,
      "outputs": []
    },
    {
      "cell_type": "markdown",
      "source": [
        "# question 4\n",
        "Given a nested list (list within a list) representing a matrix, `mat`, write a code which finds and prints the maximum organ in the matrix.\n",
        "\n",
        "> **Examples**:\n",
        "1.   For `mat=[[1, 2, 3], [3, 4, 7]]` , the printed output will be: `7`\n",
        "2.   For `mat=[[1, 2, 5]]`, the printed output will be: `5`\n",
        "2.   For `mat=[[1, 2, 5], [3.3, 4, 5], [1.1, 2, 4]]`, the printed output will be: `5`\n",
        "\n",
        "**Note:**\n",
        "*   The program **must mat change** the original list `mat` while running. meaning, `numbers` should remain unchanged.\n",
        "*   **Do not use** existing methods or functions at all and in particular `max`, `min`, `sort`, `sorted` function.\n",
        "*   It can be assumed that `mat` is a list of lists, which contains at least one list, and that all the members of the nested lists are positive numbers. It can also be assumed that all the nested lists have the same length, and are not empty.\n",
        "*   Use the question 3 algorithm to find the maximum."
      ],
      "metadata": {
        "id": "BMfhhaA7XfTR"
      }
    },
    {
      "cell_type": "code",
      "source": [
        "mat = ??? # Replace ??? with a list of lists of numbers (int/float).\n",
        "\n",
        "max_num = ???\n",
        "for i in range(???):\n",
        "    for j in range(???):\n",
        "        if ??? > ???:\n",
        "            ??? = ???\n",
        "print(max_num)"
      ],
      "metadata": {
        "id": "QArslqCKXjBg"
      },
      "execution_count": null,
      "outputs": []
    },
    {
      "cell_type": "markdown",
      "source": [
        "# question 5\n",
        "Given A (list) of numbers (int or float), write a code that comput and print the average value of the list numbers, which are less than 8. If there are no numbers smaller than 8 (or if the list is empty) the printed value will be 0.\n",
        "\n",
        "**algorithm**\n",
        "\n",
        "1.   Set a variable for the sum (`sum3`) and initialize to 0.\n",
        "\n",
        "2.   Set a variable to count (`count`) and initialize to 0.\n",
        "\n",
        "2.   Go through `A` using a loop, and check each number if it is less than 8. \n",
        "\n",
        "*   If the number is less than 8, add the number to the sum (`sum3`) and increase the count (`count`) by 1.\n",
        "\n",
        "4.   Calculate the average\n",
        "\n",
        "\n",
        "> **Examples**:\n",
        "1.   For `A=[1, 2, 3, 4, 5, 6, 10]` , the printed output will be: `3.5`\n",
        "2.   For `A=[11, 22, 33, 16.5, 10]` , the printed output will be: `0`\n",
        "\n",
        "**Note:**\n",
        "*   It can be assumed that the list `A` contains only numbers (float/int).\n",
        "*   **Do not use** `len`, `sum`."
      ],
      "metadata": {
        "id": "3dMwbkj7XnUs"
      }
    },
    {
      "cell_type": "code",
      "source": [
        "A = ??? # Replace ??? with a list of numbers (int/float).\n",
        "\n",
        "sum3 = 0\n",
        "count3 = 0\n",
        "for elem ??? ???:\n",
        "    if ????????:\n",
        "        sum3 += ???\n",
        "        count3 ?????\n",
        "if count3 ????:\n",
        "    print(???/float(???))\n",
        "else:\n",
        "    print(0)"
      ],
      "metadata": {
        "id": "S1SuvGT3XqgH"
      },
      "execution_count": null,
      "outputs": []
    }
  ]
}